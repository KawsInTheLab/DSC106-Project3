{
 "cells": [
  {
   "cell_type": "code",
   "execution_count": 2,
   "metadata": {},
   "outputs": [],
   "source": [
    "import pandas as pd"
   ]
  },
  {
   "cell_type": "code",
   "execution_count": 6,
   "metadata": {},
   "outputs": [],
   "source": [
    "df_2015 = pd.read_csv(\"archive/2015.csv\")\n",
    "df_2016 = pd.read_csv(\"archive/2016.csv\")\n",
    "df_2017 = pd.read_csv(\"archive/2017.csv\")\n",
    "df_2018 = pd.read_csv(\"archive/2018.csv\")\n",
    "df_2019 = pd.read_csv(\"archive/2019.csv\")\n",
    "df_2020 = pd.read_csv(\"archive/2020.csv\")\n",
    "df_2021 = pd.read_csv(\"archive/2021.csv\")\n",
    "df_2022 = pd.read_csv(\"archive/2022.csv\")\n"
   ]
  },
  {
   "cell_type": "code",
   "execution_count": null,
   "metadata": {},
   "outputs": [],
   "source": []
  }
 ],
 "metadata": {
  "kernelspec": {
   "display_name": "Python 3 (ipykernel)",
   "language": "python",
   "name": "python3"
  },
  "language_info": {
   "codemirror_mode": {
    "name": "ipython",
    "version": 3
   },
   "file_extension": ".py",
   "mimetype": "text/x-python",
   "name": "python",
   "nbconvert_exporter": "python",
   "pygments_lexer": "ipython3",
   "version": "3.8.18"
  }
 },
 "nbformat": 4,
 "nbformat_minor": 2
}
